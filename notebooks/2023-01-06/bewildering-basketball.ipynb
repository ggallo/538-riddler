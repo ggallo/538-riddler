{
 "cells": [
  {
   "attachments": {},
   "cell_type": "markdown",
   "metadata": {},
   "source": [
    "# Bewildering Basketball"
   ]
  },
  {
   "attachments": {},
   "cell_type": "markdown",
   "metadata": {},
   "source": [
    ">You and a friend are shooting some hoops at your local basketball court when she issues a challenge: She will name a number, which we’ll call N. Your goal is to score exactly N points in as many ways as possible using only 2-point and 3-point shots. The order of your shots does not matter.\n",
    "> \n",
    "> For example, there are two ways you could score N = 8 points: four 2-pointers or two 3-pointers and one 2-pointer.\n",
    ">\n",
    "> Your apparently sadistic friend chooses 60 for the value of N. You try to negotiate this number down, but to no avail. However, she says you are welcome to pick an even larger value of N. Does there exist an integer N greater than 60 such that there are fewer ways to score N points than there are ways to score 60 points?\n",
    "\n",
    "From [FiveThirtyEight](https://fivethirtyeight.com/features/can-you-fend-off-the-alien-armada/)"
   ]
  },
  {
   "attachments": {},
   "cell_type": "markdown",
   "metadata": {},
   "source": [
    "In mathematical terms, we're looking for the number of [partitions](https://en.wikipedia.org/wiki/Partition_(number_theory)) of 60 that are possible when restricting the part size to 2 and 3.\n",
    "\n",
    "Think of this from the perspective of counting up from 0. At 1, there's no possibility. There's exactly one possibility for each number between 2 and 5 inclusive (2, 3, 2 + 2, and 3 + 2). For 6 there are exactly 2 possibilities: 3 + 3 or 2 + 2 + 2. That will hold every time we hit a number divisible by 6. It means that each time we encounter a sum that has two 3s, we can also decompose that into a sum of three 2s.\n",
    "\n",
    "This leads to an interesting recurrence relation based on how many 3s can be \"paired off\". Let $z_k$ be the number of ways k can be written as a sum of 2s and 3s. Then we have:\n",
    "$$\n",
    "\\begin{aligned}\n",
    "z_0 &= 1 \\\\\n",
    "z_1 &= 0 \\\\\n",
    "z_{2-5} &=1 \\\\\n",
    "z_k &= \\left\\lfloor k/6 \\right\\rfloor + z_{k \\, \\textnormal{mod} \\, 6} \\\\\n",
    "\\end{aligned}\n",
    "$$\n"
   ]
  },
  {
   "cell_type": "code",
   "execution_count": 14,
   "metadata": {},
   "outputs": [
    {
     "name": "stdout",
     "output_type": "stream",
     "text": [
      "11\n",
      "10\n"
     ]
    }
   ],
   "source": [
    "from math import floor\n",
    "def twos_and_threes(x):\n",
    "    if x == 0 or 2 <= x <= 5: return 1\n",
    "    if x == 1: return 0\n",
    "    else: return floor(x/6) + twos_and_threes(x%6) \n",
    "\n",
    "print(twos_and_threes(60))\n",
    "print(twos_and_threes(61))"
   ]
  },
  {
   "attachments": {},
   "cell_type": "markdown",
   "metadata": {},
   "source": [
    "The code is almost unnecessary. Just observing the pattern, you quickly see that any number congruent to $1 \\,\\textnormal{mod}\\, 6$ wont have as many partitions using 2 and 3 as the preceding number. Thus with **61** points we would have fewer ways of winning. "
   ]
  }
 ],
 "metadata": {
  "kernelspec": {
   "display_name": ".venv",
   "language": "python",
   "name": "python3"
  },
  "language_info": {
   "codemirror_mode": {
    "name": "ipython",
    "version": 3
   },
   "file_extension": ".py",
   "mimetype": "text/x-python",
   "name": "python",
   "nbconvert_exporter": "python",
   "pygments_lexer": "ipython3",
   "version": "3.9.6"
  },
  "orig_nbformat": 4,
  "vscode": {
   "interpreter": {
    "hash": "32002b68a7f20c1f540cae76cebe499edfe5d0018cceaf79a253928acde9afa1"
   }
  }
 },
 "nbformat": 4,
 "nbformat_minor": 2
}
