{
 "cells": [
  {
   "cell_type": "markdown",
   "metadata": {},
   "source": [
    "# Classic: Expedition to find the _F. Riddlerius_ "
   ]
  },
  {
   "attachments": {},
   "cell_type": "markdown",
   "metadata": {},
   "source": [
    "[This week](https://fivethirtyeight.com/features/can-you-buy-the-right-shirt/):\n",
    "\n",
    "> Graydon is about to depart on a boating expedition that seeks to catch footage of the rare aquatic creature, F. Riddlerius. Every day he is away, he will send a hand-written letter to his new best friend, David Hacker. But if Graydon still has not spotted the creature after N days (where N is some very, very large number), he will return home.\n",
    "> \n",
    "> Knowing the value of N, Graydon confides to David there is only a 50 percent chance of the expedition ending in success before the N days have passed. But as soon as any footage is collected, he will immediately return home (after sending a letter that day, of course).\n",
    ">\n",
    "> On average, for what fraction of the N days should David expect to receive a letter?"
   ]
  },
  {
   "cell_type": "markdown",
   "metadata": {},
   "source": [
    "We're going to need the expected number of letters. Let $D$ be the random variable of how many letters David will get, and $G$ the random variable that Graydon will see the creature. We need to find $E[D]$. We can do this by finding $E[D|\\bar{G}] + E[D|G]$. The first half is easy, we know there's a 50% chance he won't see the creature, and will send $N$ letters in the process, so:\n",
    "$$\n",
    "\\begin{aligned}\n",
    "E[D|\\bar{G}] = N/2\n",
    "\\end{aligned}"
   ]
  },
  {
   "cell_type": "markdown",
   "metadata": {},
   "source": [
    "The second half is trickier. If we assume the probability of finding this creature on a given day $p$ is constant, we can compute $p$. The probability of returning home without finding the creature is\n",
    "$$\n",
    "\\begin{aligned}\n",
    "(1-p)^N &= \\frac{1}{2} \\\\\n",
    "1-p &= \\left(\\frac{1}{2}\\right)^\\frac{1}{N}\n",
    "\\end{aligned}\n",
    "$$ "
   ]
  },
  {
   "cell_type": "markdown",
   "metadata": {},
   "source": [
    "Now let's attempt to directly compute $E[D|G]$."
   ]
  },
  {
   "attachments": {},
   "cell_type": "markdown",
   "metadata": {},
   "source": [
    "$$\n",
    "\\begin{aligned}\n",
    "E[D|G] &= p + 2p(1-p) + 3p(1-p)^2 + 4p(1-p)^3 + \\cdots + Np(1-p)^{(N-1)} \\\\\n",
    "&= (1-q) + 2q(1-q) + 3q^2(1-q) + 4q^3(1-q) + \\cdots + Nq^{(N-1)}(1-q) & (q = 1 - p)\\\\\n",
    "&= 1 - q + 2q - 2q^2 + 3q^2 - 3q^3 + 4q^3 - 4q^4 \\cdots + Nq^{(N-1)} - Nq^N \\\\\n",
    "&= 1 + q + q^2 + q^3 + q^4 \\cdots -Nq^N \\\\\n",
    "&= 1 + q + q^2 + q^3 + q^4 \\cdots + q^{N-1} - \\frac{N}{2} \\\\\n",
    "\\end{aligned}\n",
    "$$"
   ]
  },
  {
   "cell_type": "markdown",
   "metadata": {},
   "source": [
    "Combining this with $E[D|\\bar{G}]$ gives a clean result, which is then collapsed into a standard geometric result."
   ]
  },
  {
   "attachments": {},
   "cell_type": "markdown",
   "metadata": {},
   "source": [
    "$$\n",
    "\\begin{aligned}\n",
    "E[D] &= E[D|G] + E[D|\\bar{G}] \\\\\n",
    "&= 1 + q + q^2 + q^3 + q^4 \\cdots + q^{N-1} - \\frac{N}{2} + \\frac{N}{2} \\\\\n",
    "&= 1 + q + q^2 + q^3 + q^4 \\cdots + q^{N-1} \\\\\n",
    "&= \\frac{1-q^N}{1-q} \\\\\n",
    "&= \\frac{1-(1-p)^N}{p} \\\\\n",
    "&= \\frac{1}{2p} & ((1-p)^N = \\frac{1}{2})\n",
    "\\end{aligned}\n",
    "$$"
   ]
  },
  {
   "attachments": {},
   "cell_type": "markdown",
   "metadata": {},
   "source": [
    "The question asks for the *fraction* of N days you should expect a letter, so the answer is $\\frac{1}{2Np}$"
   ]
  },
  {
   "attachments": {},
   "cell_type": "markdown",
   "metadata": {},
   "source": [
    "This was my answer, but rote formula work put me on autopilot and I missed a key insight. $N$ is \"very, very large\", meaning that $p$ is very, very small. First, you can rewrite the original formula $(1-p)^N = 1/2$ to $N \\cdot ln(1-p) = -ln(2)$. Next, notice the graph of $ln(1-p)$ looks like $-p$ if you zoom in near the origin, i.e. where $p$ is small. This means $N \\cdot ln(1-p) \\approx -Np \\approx -ln(2)$. This means we can get a direct answer to the question: $\\frac{1}{2\\cdot ln(2)} \\approx 0.7213$. So I should expect, on average, to get a letter about 72% of the days."
   ]
  }
 ],
 "metadata": {
  "kernelspec": {
   "display_name": "Python 3.8.9 ('.venv': venv)",
   "language": "python",
   "name": "python3"
  },
  "language_info": {
   "codemirror_mode": {
    "name": "ipython",
    "version": 3
   },
   "file_extension": ".py",
   "mimetype": "text/x-python",
   "name": "python",
   "nbconvert_exporter": "python",
   "pygments_lexer": "ipython3",
   "version": "3.9.6"
  },
  "orig_nbformat": 4,
  "vscode": {
   "interpreter": {
    "hash": "32002b68a7f20c1f540cae76cebe499edfe5d0018cceaf79a253928acde9afa1"
   }
  }
 },
 "nbformat": 4,
 "nbformat_minor": 2
}
