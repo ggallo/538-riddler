{
 "cells": [
  {
   "cell_type": "markdown",
   "metadata": {},
   "source": [
    "# Classic: Expedition to find the _F. Riddlerius_ "
   ]
  },
  {
   "cell_type": "markdown",
   "metadata": {},
   "source": [
    "[This week](https://fivethirtyeight.com/features/can-you-buy-the-right-shirt/):\n",
    "\n",
    "> Graydon is about to depart on a boating expedition that seeks to catch footage of the rare aquatic creature, F. Riddlerius. Every day he is away, he will send a hand-written letter to his new best friend, David Hacker.2 But if Graydon still has not spotted the creature after N days (where N is some very, very large number), he will return home.\n",
    "> \n",
    "> Knowing the value of N, Graydon confides to David there is only a 50 percent chance of the expedition ending in success before the N days have passed. But as soon as any footage is collected, he will immediately return home (after sending a letter that day, of course).\n",
    ">\n",
    "> On average, for what fraction of the N days should David expect to receive a letter?"
   ]
  },
  {
   "cell_type": "markdown",
   "metadata": {},
   "source": [
    "We're going to need the expected number of letters. Let $D$ be the random variable of how many letters David will get, and $G$ the random variable that Graydon will see the creature. We need $E[D]$.\n",
    "\n",
    "$E[D|\\bar{G}] = N/2$"
   ]
  },
  {
   "cell_type": "markdown",
   "metadata": {},
   "source": [
    "If we assume the probability of finding this creature on a given day $p$ is constant, we can compute $p$. The probability of returning home without finding the creature is\n",
    "$$\n",
    "\\begin{aligned}\n",
    "(1-p)^N &= \\frac{1}{2} \\\\\n",
    "1-p &= \\left(\\frac{1}{2}\\right)^\\frac{1}{N}\n",
    "\\end{aligned}\n",
    "$$ "
   ]
  },
  {
   "cell_type": "markdown",
   "metadata": {},
   "source": [
    "$$\n",
    "\\begin{aligned}\n",
    "E[X|] &= p + 2p(1-p) + 3p(1-p)^2 + 4p(1-p)^3 + \\cdots + Np(1-p)^{(N-1)} \\\\\n",
    "&= (1-q) + 2q(1-q) + 3q^2(1-q) + 4q^3(1-q) + \\cdots + Nq^{(N-1)}(1-q) & (q = 1 - p)\\\\\n",
    "&= 1 - q + 2q - 2q^2 + 3q^2 - 3q^3 + 4q^3 - 4q^4 \\cdots + Nq^{(N-1)} - Nq^N \\\\\n",
    "&= 1 + q + q^2 + q^3 + q^4 \\cdots -Nq^N \\\\\n",
    "&= 1 + q + q^2 + q^3 + q^4 \\cdots - \\frac{N}{2} & (\\text{simplify using \n",
    "above})\n",
    "\\end{aligned}\n",
    "$$"
   ]
  },
  {
   "cell_type": "markdown",
   "metadata": {},
   "source": [
    "The critical insight is that "
   ]
  }
 ],
 "metadata": {
  "kernelspec": {
   "display_name": "Python 3.8.9 ('.venv': venv)",
   "language": "python",
   "name": "python3"
  },
  "language_info": {
   "codemirror_mode": {
    "name": "ipython",
    "version": 3
   },
   "file_extension": ".py",
   "mimetype": "text/x-python",
   "name": "python",
   "nbconvert_exporter": "python",
   "pygments_lexer": "ipython3",
   "version": "3.9.6"
  },
  "orig_nbformat": 4,
  "vscode": {
   "interpreter": {
    "hash": "32002b68a7f20c1f540cae76cebe499edfe5d0018cceaf79a253928acde9afa1"
   }
  }
 },
 "nbformat": 4,
 "nbformat_minor": 2
}
