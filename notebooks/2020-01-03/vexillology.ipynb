{
 "nbformat": 4,
 "nbformat_minor": 2,
 "metadata": {
  "language_info": {
   "name": "python",
   "codemirror_mode": {
    "name": "ipython",
    "version": 3
   },
   "version": "3.5.3-final"
  },
  "orig_nbformat": 2,
  "file_extension": ".py",
  "mimetype": "text/x-python",
  "name": "python",
  "npconvert_exporter": "python",
  "pygments_lexer": "ipython3",
  "version": 3,
  "kernelspec": {
   "name": "python35364bitvenvvenv0e4b3be8b9574f759a085914d48ab857",
   "display_name": "Python 3.5.3 64-bit ('.venv': venv)"
  }
 },
 "cells": [
  {
   "cell_type": "markdown",
   "execution_count": null,
   "metadata": {},
   "outputs": [],
   "source": [
    "# Vexing Vexillology\n",
    "\n",
    "This is a late entry for self-gratification of [the Spelling Bee riddle](https://fivethirtyeight.com/features/can-you-solve-the-vexing-vexillology/). In short, which Spelling Bee board gives us the highest score?\n",
    "\n",
    "A valid board is a set of 7 unique letters from which the player must form English words. Valid words must contain only letters from the board, must include the central letter, must be at least 4 letters long, and may contain a letter more than once. Boards must not include \"S\", and there must be at least one **pangram** (a word using every letter on the board). As for scoring:\n",
    "\n",
    "> Four-letter words are worth 1 point each, while five-letter words are worth 5 points, six-letter words are worth 6 points, seven-letter words are worth 7 points, etc. Words that use all of the seven letters in the honeycomb are known as “pangrams” and earn 7 bonus points (in addition to the points for the length of the word).\n",
    "\n",
    "The prompt was scored against [this dictionary](https://norvig.com/ngrams/enable1.txt)."
   ]
  },
  {
   "cell_type": "code",
   "execution_count": 1,
   "metadata": {},
   "outputs": [],
   "source": [
    "import sys\n",
    "sys.path.insert(0, '../..')"
   ]
  },
  {
   "cell_type": "code",
   "execution_count": 2,
   "metadata": {},
   "outputs": [
    {
     "name": "stdout",
     "output_type": "stream",
     "text": "3364900.0\n"
    }
   ],
   "source": [
    "from scipy import special\n",
    "\n",
    "num_possible_boards = special.binom(25, 6) * special.binom(19, 1)\n",
    "print(num_possible_boards)"
   ]
  },
  {
   "cell_type": "markdown",
   "execution_count": null,
   "metadata": {},
   "outputs": [],
   "source": [
    "My gut went right to a Trie, but we don't care about the letters per word, but the unique letters per word. The complicating factor is the required central letter.\n",
    "\n",
    "Now by brute force, there are\n",
    "\n",
    "$$\\binom{25}{6}\\times\\binom{19}{1}\\approx3.7\\times10^{6}\\,\\mathrm{boards}$$\n"
   ]
  },
  {
   "cell_type": "markdown",
   "execution_count": null,
   "metadata": {},
   "outputs": [],
   "source": [
    "If you give one second to check each board, we're looking at just over a month for a solution. But here's a key insight. Since valid boards must contain one pangram, we only need to concern ourselves with the possible boards derived from 7+ length words in our dictionary. Put another way: if we had a board from which no word in our dictionary could be formed using all 7 letters at least once, then the board is invalid.\n",
    "\n",
    "At the same time, we can create a Trie-adjacent structure that maps a set of unique letters derived from our dictionary words to that set's overall score. For example,  We can use this while checking a board's score."
   ]
  },
  {
   "cell_type": "code",
   "execution_count": 3,
   "metadata": {},
   "outputs": [],
   "source": [
    "def get_words():\n",
    "    res = urllib.request.urlopen('https://norvig.com/ngrams/enable1.txt')\n",
    "    return res.read().decode('utf-8').upper().split('\\n')\n"
   ]
  },
  {
   "cell_type": "code",
   "execution_count": 4,
   "metadata": {},
   "outputs": [],
   "source": [
    "import urllib\n",
    "\n",
    "# Keeping with the spirit of the problem, a hive is the\n",
    "# set of distinct (lexicographically ordered) letters of a word\n",
    "def make_hive(word):\n",
    "    return ''.join(sorted(set(word)))\n",
    "\n",
    "def score(word):\n",
    "    bonus = (7 if len(set(word)) == 7 else 0)\n",
    "    base = (1 if len(word) == 4 else len(word))\n",
    "    return bonus + base\n",
    "\n",
    "def get_scores(words):\n",
    "    scores = {}\n",
    "    for cur_word in words:\n",
    "        cur_hive = make_hive(cur_word)\n",
    "        # With > 7 distinct letters, a word can't be derived from a board\n",
    "        # Words < 4 letters aren't scored, so ignore them too\n",
    "        if len(cur_hive) <= 7 \\\n",
    "                and len(cur_word) >= 4 \\\n",
    "                and 'S' not in cur_word:\n",
    "            scores[cur_hive] = scores.get(cur_hive, 0) + score(cur_word)\n",
    "    return scores\n",
    "\n",
    "scores = get_scores(get_words())"
   ]
  },
  {
   "cell_type": "markdown",
   "execution_count": null,
   "metadata": {},
   "outputs": [],
   "source": [
    "Check our work quickly."
   ]
  },
  {
   "cell_type": "code",
   "execution_count": 5,
   "metadata": {},
   "outputs": [],
   "source": [
    "assert( max(list(map(lambda x: len(x), scores))) == 7)"
   ]
  },
  {
   "cell_type": "markdown",
   "execution_count": null,
   "metadata": {},
   "outputs": [],
   "source": [
    "Now we extract the seven letter hives from our score map, and generate the possible boards by noting that for each hive, there are 7 potential boards, one for each letter as the \"central letter\" or \"mandatory letter\"."
   ]
  },
  {
   "cell_type": "code",
   "execution_count": 6,
   "metadata": {},
   "outputs": [],
   "source": [
    "candidates = list(filter(lambda x: len(x) == 7, scores))\n",
    "boards = [(c,letter) for c in candidates for letter in c]"
   ]
  },
  {
   "cell_type": "markdown",
   "execution_count": null,
   "metadata": {},
   "outputs": [],
   "source": [
    "We're close. Now consider a single board. We want to check every possible subset of the board against our scores to see how many points can be scored from that subset. Do that for each board and we're good to go!"
   ]
  },
  {
   "cell_type": "code",
   "execution_count": 7,
   "metadata": {},
   "outputs": [
    {
     "name": "stdout",
     "output_type": "stream",
     "text": "CPU times: user 9.13 s, sys: 0 ns, total: 9.13 s\nWall time: 9.27 s\n"
    },
    {
     "data": {
      "text/plain": "(3898, ('AEGINRT', 'R'))"
     },
     "execution_count": 7,
     "metadata": {},
     "output_type": "execute_result"
    }
   ],
   "source": [
    "from itertools import combinations\n",
    "\n",
    "def all_board_subsets(board):\n",
    "    (letters, middle) = board\n",
    "    subsets = []\n",
    "    for i in range(1, 8):\n",
    "        for c in combinations(letters, i):\n",
    "            if middle in c:\n",
    "                subsets.append(''.join(sorted(c)))\n",
    "    return subsets\n",
    "\n",
    "def get_board_score(board, scores):\n",
    "    return sum([scores[s] for s in all_board_subsets(board) if s in scores])\n",
    "\n",
    "def best_board(boards, scores):\n",
    "    return max((get_board_score(b, scores), b) for b in boards)\n",
    "\n",
    "\n",
    "%time best_board(boards, scores)"
   ]
  },
  {
   "cell_type": "markdown",
   "execution_count": null,
   "metadata": {},
   "outputs": [],
   "source": [
    "There you have it, just shy of 4000 points, a board with \"R\" in the center. Now if the Times wanted to put the \"lol\" in vexillology they would publish this board as a prank and let their readers go apopleptic.\n",
    "\n",
    "This puzzle begs for a board solver, i.e. given a board, which words can be formed? A trie again seems useful."
   ]
  },
  {
   "cell_type": "code",
   "execution_count": 8,
   "metadata": {},
   "outputs": [],
   "source": [
    "from util.trie import Trie\n",
    "riddle_dict = Trie(get_words())"
   ]
  },
  {
   "cell_type": "markdown",
   "execution_count": null,
   "metadata": {},
   "outputs": [],
   "source": [
    "Alas since there's no upper bound on word length, we can't just permute all the possible hives on a board without a massive time penalty. Once again, parsing the dictionary itself is the key to success.\n",
    "\n",
    "Here's a board from today. We need a map from hives to the possible words. Then we generate all possible hives from the board, look them up in our map, and optionally get a score if we like."
   ]
  },
  {
   "cell_type": "code",
   "execution_count": 9,
   "metadata": {},
   "outputs": [
    {
     "data": {
      "text/plain": "['ADMAN',\n 'ADOWN',\n 'AMAH',\n 'AMMO',\n 'AMMONO',\n 'ANNA',\n 'ANOA',\n 'ANON',\n 'DADA',\n 'DADO',\n 'DAHOON',\n 'DAMAN',\n 'DAMN',\n 'DAWN',\n 'DONA',\n 'DONNA',\n 'DOODAD',\n 'HAHA',\n 'HAMADA',\n 'HAMMADA',\n 'HAND',\n 'HODAD',\n 'HONAN',\n 'HONDA',\n 'HOWDAH',\n 'HWAN',\n 'MADAM',\n 'MADMAN',\n 'MADONNA',\n 'MADWOMAN',\n 'MAMA',\n 'MAMMA',\n 'MAMMON',\n 'MANA',\n 'MANANA',\n 'MANHOOD',\n 'MANNA',\n 'MANNAN',\n 'MANO',\n 'MAWN',\n 'MOAN',\n 'MOMMA',\n 'MONAD',\n 'NAAN',\n 'NADA',\n 'NANA',\n 'NOMA',\n 'NOMAD',\n 'NONA',\n 'NONMAN',\n 'WAHOO',\n 'WAND',\n 'WHAM',\n 'WHAMMO',\n 'WHAMO',\n 'WHOA',\n 'WOAD',\n 'WOMAN',\n 'WOMANHOOD',\n 'WOODMAN']"
     },
     "execution_count": 9,
     "metadata": {},
     "output_type": "execute_result"
    }
   ],
   "source": [
    "def hive_map(words):\n",
    "    final_map = {}\n",
    "    for w in words:\n",
    "        if len(w) < 4 or 'S' in w:\n",
    "            continue\n",
    "        cur_hive = make_hive(w)\n",
    "        if cur_hive not in final_map:\n",
    "            final_map[cur_hive] = []\n",
    "        final_map[cur_hive].append(w)\n",
    "    return final_map\n",
    "\n",
    "hives_to_words = hive_map(get_words())\n",
    "\n",
    "board_20200125 = ('MWHAOND', 'A')\n",
    "\n",
    "def get_all_words(board, word_map):\n",
    "    all_words = []\n",
    "    for s in all_board_subsets(board):\n",
    "        cur_words = word_map.get(s, None)\n",
    "        if cur_words:\n",
    "            all_words += cur_words\n",
    "    return sorted(all_words)\n",
    "\n",
    "get_all_words(board_20200125, hives_to_words)"
   ]
  }
 ]
}