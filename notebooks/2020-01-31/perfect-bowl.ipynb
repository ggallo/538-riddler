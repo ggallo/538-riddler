{
 "nbformat": 4,
 "nbformat_minor": 2,
 "metadata": {
  "language_info": {
   "name": "python",
   "codemirror_mode": {
    "name": "ipython",
    "version": 3
   },
   "version": "3.5.3-final"
  },
  "orig_nbformat": 2,
  "file_extension": ".py",
  "mimetype": "text/x-python",
  "name": "python",
  "npconvert_exporter": "python",
  "pygments_lexer": "ipython3",
  "version": 3,
  "kernelspec": {
   "name": "python35364bitvenvvenv0e4b3be8b9574f759a085914d48ab857",
   "display_name": "Python 3.5.3 64-bit ('.venv': venv)"
  }
 },
 "cells": [
  {
   "cell_type": "markdown",
   "execution_count": null,
   "metadata": {},
   "outputs": [],
   "source": [
    "# Express: The Perfect Bowl"
   ]
  },
  {
   "cell_type": "markdown",
   "execution_count": null,
   "metadata": {},
   "outputs": [],
   "source": [
    "Summing up the [prompt](https://fivethirtyeight.com/features/can-you-roll-the-perfect-bowl/). We're bowling with perfect spheres of radius 1 inch, with two bowls already positioned with their centers exactly 5 inches apart. We want to bowl in a straight line so that the angle between the roll and the line between the existing bowls is minimzed, and our ball will not touch the other two. Solve!"
   ]
  },
  {
   "cell_type": "markdown",
   "execution_count": null,
   "metadata": {},
   "outputs": [],
   "source": [
    "![bowls](https://fivethirtyeight.com/wp-content/uploads/2020/01/bowls.gif \"Bowl at 75 degrees\")\n",
    "\n",
    "_Courtesy FiveThirtyEight_"
   ]
  },
  {
   "cell_type": "markdown",
   "execution_count": null,
   "metadata": {},
   "outputs": [],
   "source": [
    "First the answer, then an attempt at animation. To rephrase the setup, W.L.O.G., we have bowls $A$ and $B$ each of radius 1 inch, with origins 5 inches apart, and we want our bowl $P$ travelling along line $\\ell$ to form as small an angle $\\phi$ as possible with $\\overline{AB}$. Call the point where $\\ell$ and $\\overline{AB}$ meet $O$. Solve for $\\phi$.\n",
    "\n",
    "Imagine a rectangle $R$ of infinite length and width 2 inches that lies such that each side is tangent to $A$ and $B$. A bowl $P$ of radius 1 travelling the length of $R$ must also move tangent to the existing bowls because it has the same width as $R$, and thus move as close as possible to $A$ and $B$ without disturbing them. This means $\\ell$ bisects $R$.\n",
    "\n",
    "Now imagine $P$ in motion down the length of this rectangle, and stop it at the moment it is tangent to $A$. By the definition of tangent lines, the line $\\overline{AP}$ forms a right angle with $\\ell$, and we have $\\unicode{0x22BF}APO$, with $\\phi=\\measuredangle POA$. We know from the radii of the bowls that $\\overline{AP}=2$, and (I know I'm reaching here but I'm quite sure it's true due to some argument from roatational symmetry) since $\\ell$ bisects $\\overline{AB}$, $\\overline{AO}=2.5$. Now we get:\n",
    "\n",
    "$$\\sin{\\phi} = \\frac{2}{2.5}$$\n",
    "\n",
    "$$\\phi = \\arcsin{\\frac{2}{2.5}}$$\n",
    " "
   ]
  },
  {
   "cell_type": "code",
   "execution_count": 1,
   "metadata": {},
   "outputs": [
    {
     "name": "stdout",
     "output_type": "stream",
     "text": "53.13010235415598\n"
    }
   ],
   "source": [
    "import numpy as np\n",
    "\n",
    "answer = np.arcsin(2/2.5) * 180 / np.pi\n",
    "print(answer)"
   ]
  },
  {
   "cell_type": "markdown",
   "execution_count": null,
   "metadata": {},
   "outputs": [],
   "source": [
    "$$\\phi \\approx 53.1301°$$"
   ]
  }
 ]
}