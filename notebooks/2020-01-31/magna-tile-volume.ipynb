{
 "cells": [
  {
   "cell_type": "markdown",
   "metadata": {},
   "source": [
    "# Classic: Magna-Tile Pyramids"
   ]
  },
  {
   "cell_type": "markdown",
   "metadata": {},
   "source": [
    "The [link](https://fivethirtyeight.com/features/can-you-roll-the-perfect-bowl/).\n",
    "\n",
    "We have congruent isosceles triangle Magna-Tiles with the unique angle at 30°. We can create pyramids by \"click\"ing between 3 and 11 of them together and placing them on a flat surface. Which such pyramid has the greatest volume?"
   ]
  },
  {
   "cell_type": "markdown",
   "metadata": {},
   "source": [
    "Our tiles are congruent, so the base of this pyramid will be a regular polygon. We therefore have a _regular pyramid_. Now a fun fact that has stuck in my head since middle school is that the volume of a regular pyramid $V$ is always $V=\\frac{1}{3}Bh$, where $B$ is the area of the base and $h$ is the pyramid height. [MathWorld](https://mathworld.wolfram.com/Pyramid.html) confirms as much and gives a concise but gratifying proof of this formula using calculus. This reduces our workload to simply finding $B$ and $h$."
   ]
  },
  {
   "cell_type": "markdown",
   "metadata": {},
   "source": [
    "MathWorld would probably be willing to also give us the formula for area of a regular polygon (an n-gon), but let's flex some logic here. We'll assume that the base of our Magna-Tiles - and thus the edges of our n-gon - measure 1. Now if we draw lines from the center of the n-gon to each vertex, we will divide the n-gon into congruent, isosceles triangles. The actual measure of our tiles isn't as interesting here, because we are dealing with the projection of these tiles onto the surface, thus distorting the angles of the tiles themselves. These lines are technically radii of the circle that circumscribes our polygon, so we'll call this measure $r$.\n",
    "\n",
    "Now the area of our n-gon is n times the area of one of its triangle sections. We know the base $b$ of such a triangle is 1. Its height we can derive with some trigonometry. Notice that at the origin, because all of the edges are equal, the spacing between the radii are also equal. This means the angles formed by the radii, i.e. the inner angles of the triangle sections, are also all equivalent. If we call one of these angles $\\phi$, then we have $\\phi=\\frac{360}{n}$. If we construct a bisector of an edge through the n-gon origin, we get $\\frac{\\phi}{2}$. If the height of this triangle section is $\\gamma$, we have:\n",
    "\n",
    "$$\n",
    "\\begin{aligned}\n",
    "\\tan\\left(\\frac{\\phi}{2}\\right)&=\\frac{b/2}{\\gamma} \\\\\n",
    "\\tan\\left(\\frac{\\phi}{2}\\right)&=\\frac{1/2}{\\gamma} \\\\\n",
    "\\gamma&=\\frac{1}{2\\tan(\\phi/2)} \\\\\n",
    "&=\\frac{1}{2\\tan(180/n)}\n",
    "\\end{aligned}\n",
    "$$"
   ]
  },
  {
   "cell_type": "markdown",
   "metadata": {},
   "source": [
    "Put it together:"
   ]
  },
  {
   "cell_type": "markdown",
   "metadata": {},
   "source": [
    "$$\n",
    "\\begin{aligned}\n",
    "B &= n \\times \\left(\\frac{1}{2} \\times b \\times \\gamma\\right) \\\\\n",
    "&= n \\times \\left(\\frac{1}{2} \\times 1 \\times \\frac{1}{2\\tan\\left(180/n\\right)}\\right) \\\\\n",
    "&= \\frac{n}{4\\tan(180/n)}\n",
    "\\end{aligned}\n",
    "$$"
   ]
  },
  {
   "cell_type": "markdown",
   "metadata": {},
   "source": [
    "Sweet. Now the height of the pyramid $h$. Consider a cross section of the pyramid aligned with one of the base's radii. It's a triagle with the hypotenuse corresponding to the edge of Magna-Tile (call it $d$), and the legs correspond to the height of the pyramid $h$ and the radius $r$. Deriving $r$ is similar to $\\gamma$:\n",
    "\n",
    "$$\n",
    "\\begin{aligned}\n",
    "\\sin\\left(\\frac{\\phi}{2}\\right) &= \\frac{b/2}{r} \\\\\n",
    "\\sin\\left(\\frac{\\phi}{2}\\right) &= \\frac{1/2}{r} \\\\\n",
    "r &= \\frac{1}{2\\sin(\\phi/2)} \\\\\n",
    "&= \\frac{1}{2\\sin(180/n)}\n",
    "\\end{aligned}\n",
    "$$"
   ]
  },
  {
   "cell_type": "markdown",
   "metadata": {},
   "source": [
    "For $d$, we know the base of the tile and the angle. We'll end up using all three of the core trig functions!\n",
    "\n",
    "$$\n",
    "\\begin{aligned}\n",
    "\\cos(75) &= \\frac{1/2}{d} \\\\\n",
    "d &= \\frac{1}{2\\cos(75)} \\Bbb\\Rightarrow \\\\\n",
    "d^2 &= r^2 + h^2 \\\\\n",
    "h^2 &= d^2 - r^2 \\\\\n",
    "h &= \\sqrt{d^2 - r^2} \\\\\n",
    "&= \\sqrt{\\frac{1}{4\\cos(75)^2} - \\frac{1}{4\\sin(180/n)^2}}\n",
    "\\end{aligned}\n",
    "$$\n",
    "\n",
    "I can almost guarantee there's some trig identity we could apply here, but unfortunately I'm too far removed from precalc to recognize it."
   ]
  },
  {
   "cell_type": "markdown",
   "metadata": {},
   "source": [
    "We'll let Python do the rest, bearing in mind we're after a class that can give us good relative volumes, not necessarily the best numerical accuracy. Here we're calling a pyramid _face_ a side of a pyramid that is not the base."
   ]
  },
  {
   "cell_type": "code",
   "execution_count": 1,
   "metadata": {},
   "outputs": [],
   "source": [
    "import numpy as np\n",
    "\n",
    "class IsocTriangle(object):\n",
    "    def __init__(self, dup_angle, base=1):\n",
    "        if dup_angle >= 90:\n",
    "            raise ValueError('Cannot form a triangle from given angle')\n",
    "\n",
    "        self.dup_angle = dup_angle\n",
    "        self.base = base\n",
    "\n",
    "    @property\n",
    "    def leg(self):\n",
    "        return self.base / (2. * np.cos(self.dup_angle / 180. * np.pi))\n",
    "\n",
    "    @property\n",
    "    def height(self):\n",
    "        return np.tan(self.dup_angle * np.pi / 180) * self.base / 2\n",
    "\n",
    "    @property\n",
    "    def unique_angle(self):\n",
    "        return 180 - (2 * self.dup_angle)\n",
    "\n",
    "class Pyramid(object):\n",
    "    def __init__(self, isoc_triangle, num_faces):\n",
    "        if num_faces < 3:\n",
    "            raise ValueError('Must have at least 3 sides')\n",
    "        if isoc_triangle.unique_angle * num_faces >= 360:\n",
    "            raise ValueError('Incompatible number of faces for given triangle')\n",
    "\n",
    "        self.triangle = isoc_triangle\n",
    "        self.num_faces = num_faces\n",
    "\n",
    "    @property\n",
    "    def base_area(self):\n",
    "        return self.triangle.base ** 2 * self.num_faces / (4. * np.tan(np.pi / self.num_faces))\n",
    "\n",
    "    @property\n",
    "    def radius(self):\n",
    "        return self.triangle.base / (2 * np.sin(np.pi / self.num_faces))\n",
    "\n",
    "    @property\n",
    "    def height(self):\n",
    "        return np.sqrt(self.triangle.leg ** 2 - self.radius ** 2)\n",
    "\n",
    "    @property\n",
    "    def volume(self):\n",
    "        return self.base_area * self.height / 3."
   ]
  },
  {
   "cell_type": "code",
   "execution_count": 3,
   "metadata": {},
   "outputs": [
    {
     "data": {
      "image/png": "[encoded data removed]",
      "text/plain": [
       "<Figure size 576x360 with 1 Axes>"
      ]
     },
     "metadata": {
      "needs_background": "light"
     },
     "output_type": "display_data"
    }
   ],
   "source": [
    "import matplotlib.pyplot as plt\n",
    "from matplotlib.ticker import MaxNLocator\n",
    "\n",
    "magna_tile = IsocTriangle(75)\n",
    "\n",
    "plt.figure(figsize=(8, 5))\n",
    "ax = plt.axes()\n",
    "ax.set_xlabel('# faces')\n",
    "ax.set_ylabel('volume')\n",
    "ax.yaxis.set_major_locator(MaxNLocator(integer=True))\n",
    "ax.bar(\n",
    "    np.arange(9),\n",
    "    [Pyramid(magna_tile, i).volume for i in range(3, 12)],\n",
    "    color=plt.cm.get_cmap('viridis_r')(np.linspace(0,1,9)),\n",
    "    tick_label=range(3, 12))\n",
    "plt.show()"
   ]
  },
  {
   "cell_type": "markdown",
   "metadata": {},
   "source": [
    "It's a tight race, but at nearly 3 cubic units, a 10-pyramid is the way to maximize volume. Interesting how close it becomes once you hit 8 faces."
   ]
  }
 ],
 "metadata": {
  "file_extension": ".py",
  "kernelspec": {
   "display_name": "Python 3.8.9 ('.venv': venv)",
   "language": "python",
   "name": "python3"
  },
  "language_info": {
   "codemirror_mode": {
    "name": "ipython",
    "version": 3
   },
   "name": "python",
   "version": "3.8.9"
  },
  "mimetype": "text/x-python",
  "name": "python",
  "npconvert_exporter": "python",
  "orig_nbformat": 2,
  "pygments_lexer": "ipython3",
  "version": 3,
  "vscode": {
   "interpreter": {
    "hash": "32002b68a7f20c1f540cae76cebe499edfe5d0018cceaf79a253928acde9afa1"
   }
  }
 },
 "nbformat": 4,
 "nbformat_minor": 2
}
